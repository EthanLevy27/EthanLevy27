{
 "cells": [
  {
   "cell_type": "code",
   "execution_count": null,
   "id": "367566c0",
   "metadata": {},
   "outputs": [],
   "source": [
    "\"\"\"\n",
    "READ ME:\n",
    "\n",
    "This is a script for calculating the Taylor Series of a given function. To start, run the script and enter your function\n",
    "and the number of terms. For testing, I used x and y for the different parts of the series although they should be the \n",
    "same variable in reality. \n",
    "\n",
    "\n",
    "\n",
    "\n",
    "\"\"\""
   ]
  },
  {
   "cell_type": "code",
   "execution_count": null,
   "id": "26553644",
   "metadata": {},
   "outputs": [],
   "source": [
    "import numpy as np\n",
    "from sympy import symbols\n",
    "import math\n",
    "x,y,z = symbols('x y z')\n",
    "#init_printing(use_unicode=True)\n",
    "\n",
    "\"\"\"\n",
    "These first two functions are the individual components that I used to create the end function. \n",
    "\n",
    "\n",
    "def taylor(n):\n",
    "    a =0 \n",
    "    p = 0\n",
    "    for i in range(n):\n",
    "        p =p+1\n",
    "        a =a + x**(p) / (math.factorial(p))\n",
    "        print(a)\n",
    "        \n",
    "#taylor(4) \n",
    "\n",
    "def deriv(b, n):\n",
    "  \n",
    "    p = 0\n",
    "    for i in range(n):\n",
    "        p = p+1\n",
    "        b = b + diff(b,x,p)\n",
    "        print(b)\n",
    "#deriv(x**5,3)\n",
    "\n",
    "\"\"\"\n",
    "\n",
    "\n",
    "\n",
    "\n",
    "\n",
    "\n",
    "# This is the actual combined taylor series function that I did! Super fucking BRASS JKHIFHDIGH\n",
    "\n",
    "\n",
    "bb = input(\"Type Expression Here: __\")\n",
    "n = int(input(\"How many terms do you want to calculate? \"))\n",
    "\n",
    "def taydiv(b,n):\n",
    "    a = 0\n",
    "    p = 0\n",
    "    e=0\n",
    "    T=0\n",
    "    for i in range(n):\n",
    "        \n",
    "        p = p+1\n",
    "        a = (y**(p)/(math.factorial(p)))\n",
    "        e = diff(b,x,p)\n",
    "        T = T + a*e\n",
    "        print(\"T(x)=\",T+1)\n",
    "       \n",
    "        print(\"# of terms=\",p)\n",
    "        if diff(b,x,p) == 0:\n",
    "            break\n",
    "        \n",
    "taydiv(bb,n)\n"
   ]
  },
  {
   "cell_type": "code",
   "execution_count": null,
   "id": "3c4b4ab2",
   "metadata": {},
   "outputs": [],
   "source": [
    "\"\"\"\n",
    "\n",
    "\"\"\""
   ]
  },
  {
   "cell_type": "code",
   "execution_count": null,
   "id": "76bbb78d",
   "metadata": {},
   "outputs": [],
   "source": []
  }
 ],
 "metadata": {
  "kernelspec": {
   "display_name": "Python 3",
   "language": "python",
   "name": "python3"
  },
  "language_info": {
   "codemirror_mode": {
    "name": "ipython",
    "version": 3
   },
   "file_extension": ".py",
   "mimetype": "text/x-python",
   "name": "python",
   "nbconvert_exporter": "python",
   "pygments_lexer": "ipython3",
   "version": "3.8.8"
  }
 },
 "nbformat": 4,
 "nbformat_minor": 5
}
